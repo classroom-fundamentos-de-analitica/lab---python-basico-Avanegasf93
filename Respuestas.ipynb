{
 "cells": [
  {
   "cell_type": "code",
   "execution_count": 8,
   "metadata": {},
   "outputs": [
    {
     "name": "stdout",
     "output_type": "stream",
     "text": [
      "['E', 1, ['1999', '02', '28'], ['b', 'g', 'f'], ['jjj:12', 'bbb:3', 'ddd:9', 'ggg:8', 'hhh:2']]\n",
      "['A', 2, ['1999', '10', '28'], ['a', 'f', 'c'], ['ccc:2', 'ddd:0', 'aaa:3', 'hhh:9']]\n",
      "['B', 5, ['1998', '05', '02'], ['f', 'e', 'a', 'c'], ['ddd:2', 'ggg:5', 'ccc:6', 'jjj:12']]\n",
      "['A', 3, ['1999', '08', '28'], ['a', 'b'], ['hhh:9', 'iii:5', 'eee:7', 'bbb:1']]\n",
      "['C', 6, ['1999', '12', '01'], ['f', 'g', 'd', 'a'], ['iii:6', 'ddd:5', 'eee:4', 'jjj:12']]\n",
      "['A', 7, ['1998', '07', '28'], ['c', 'd'], ['bbb:2', 'hhh:0', 'ccc:4', 'fff:1', 'aaa:7']]\n",
      "['A', 9, ['1997', '02', '28'], ['g', 'd', 'a'], ['aaa:5', 'fff:8', 'ddd:2', 'iii:0', 'jjj:7', 'ccc:1']]\n",
      "['B', 1, ['1999', '05', '10'], ['b', 'a'], ['fff:3', 'hhh:1', 'ddd:2']]\n",
      "['E', 2, ['1997', '04', '12'], ['d', 'e', 'a', 'f'], ['eee:4', 'ccc:5', 'iii:9', 'fff:7', 'ggg:6', 'bbb:2']]\n",
      "['B', 3, ['1999', '11', '23'], ['d', 'b', 'g', 'f'], ['bbb:7', 'jjj:9', 'fff:5', 'iii:4', 'ggg:3', 'eee:3']]\n",
      "['C', 7, ['1998', '01', '17'], ['d', 'c', 'f', 'b'], ['hhh:6', 'eee:4', 'iii:0', 'fff:2', 'jjj:12']]\n",
      "['C', 5, ['1998', '12', '28'], ['d', 'e', 'a', 'c'], ['bbb:7', 'iii:6', 'ggg:9']]\n",
      "['D', 3, ['1999', '10', '15'], ['g', 'e', 'f', 'b'], ['bbb:9', 'aaa:3', 'ccc:6', 'fff:4', 'eee:2']]\n",
      "['E', 8, ['1998', '11', '01'], ['c', 'f'], ['aaa:8', 'ddd:5', 'jjj:12']]\n",
      "['B', 9, ['1999', '08', '12'], ['d', 'b'], ['ccc:7', 'jjj:6', 'fff:7', 'ddd:3', 'aaa:2']]\n",
      "['D', 8, ['1997', '12', '01'], ['f', 'e'], ['ccc:8', 'eee:6', 'bbb:9', 'ddd:3']]\n",
      "['E', 3, ['1997', '07', '28'], ['e', 'b', 'f'], ['bbb:6', 'iii:3', 'hhh:5', 'fff:4', 'ggg:9', 'ddd:2']]\n",
      "['D', 5, ['1998', '08', '12'], ['g', 'a'], ['hhh:4', 'jjj:5', 'ccc:9']]\n",
      "['E', 8, ['1999', '08', '24'], ['e', 'c', 'f', 'a'], ['ccc:1', 'iii:6', 'fff:9']]\n",
      "['E', 9, ['1998', '01', '23'], ['e', 'a'], ['bbb:9', 'aaa:3', 'fff:1']]\n",
      "['E', 7, ['1999', '06', '22'], ['e', 'f'], ['ddd:9', 'iii:2', 'aaa:4']]\n",
      "['E', 3, ['1999', '04', '24'], ['c', 'b', 'g'], ['ccc:5', 'fff:8', 'iii:7']]\n",
      "['D', 5, ['1999', '06', '25'], ['c', 'f', 'a'], ['eee:3', 'jjj:17', 'ddd:7']]\n",
      "['A', 9, ['1999', '08', '25'], ['f', 'a', 'd'], ['jjj:12', 'ggg:7', 'ccc:7', 'ddd:9', 'bbb:3']]\n",
      "['E', 4, ['1997', '07', '26'], ['c', 'd'], ['jjj:6', 'ccc:4', 'aaa:1', 'hhh:9', 'iii:7', 'ggg:8']]\n",
      "['E', 6, ['1997', '09', '24'], ['e', 'd', 'c'], ['fff:3', 'eee:6', 'iii:4', 'bbb:7', 'ddd:4', 'ccc:1']]\n",
      "['A', 8, ['1997', '09', '28'], ['a', 'e', 'f'], ['fff:0', 'ddd:5', 'ccc:4']]\n",
      "['E', 5, ['1999', '06', '22'], ['c', 'a', 'g'], ['ggg:6', 'hhh:3', 'ddd:9', 'ccc:10', 'jjj:7']]\n",
      "['A', 6, ['1999', '07', '29'], ['f', 'e'], ['hhh:6', 'jjj:13', 'eee:5', 'iii:7', 'ccc:3']]\n",
      "['C', 0, ['1999', '08', '22'], ['f', 'c', 'a', 'g'], ['eee:1', 'fff:4', 'aaa:2', 'ccc:7', 'ggg:10', 'ddd:6']]\n",
      "['A', 9, ['1998', '04', '26'], ['b', 'f'], ['ccc:6', 'aaa:9', 'eee:5', 'ddd:0', 'bbb:3']]\n",
      "['D', 3, ['1998', '02', '24'], ['b', 'f'], ['bbb:7', 'hhh:1', 'aaa:6', 'iii:4', 'fff:9', 'ddd:5']]\n",
      "['E', 5, ['1999', '03', '24'], ['a', 'c'], ['fff:3', 'ccc:1', 'ggg:3', 'eee:5']]\n",
      "['B', 4, ['1998', '03', '23'], ['b', 'f', 'c'], ['iii:7', 'ggg:3', 'ddd:0', 'jjj:8', 'hhh:5', 'ccc:1']]\n",
      "['B', 6, ['1999', '04', '21'], ['f', 'a', 'e'], ['hhh:6', 'ccc:3', 'jjj:9', 'bbb:8', 'ddd:7']]\n",
      "['D', 7, ['1999', '02', '28'], ['a', 'f'], ['aaa:1', 'fff:5', 'ddd:3']]\n",
      "['B', 8, ['1997', '05', '21'], ['c', 'a'], ['ddd:5', 'jjj:17', 'iii:7', 'ccc:10', 'bbb:4']]\n",
      "['C', 9, ['1997', '07', '22'], ['c', 'a', 'e', 'f'], ['eee:3', 'fff:2', 'hhh:6']]\n",
      "['E', 1, ['1999', '09', '28'], ['e', 'd'], ['fff:9', 'iii:2', 'eee:5']]\n",
      "['E', 5, ['1998', '01', '26'], ['f', 'a', 'd'], ['hhh:8', 'ggg:3', 'jjj:5']]\n"
     ]
    }
   ],
   "source": [
    "import sys\n",
    "import preguntas\n",
    "from datetime import datetime\n",
    "\n",
    "file=open(\"data.csv\",\"r\") #Obtengo el archivo y lo guardo en file\n",
    "lines=file.readlines() #Lee el archivo y devuelve una lista\n",
    "file.close()\n",
    "data=[]\n",
    "for line in lines:\n",
    "    nline=line.replace(\"\\n\",\"\")\n",
    "    raw=nline.split(\"\\t\")\n",
    "    raw[1]=int(raw[1])\n",
    "    raw[2]=raw[2].split(\"-\")\n",
    "    raw[3]=raw[3].split(\",\")\n",
    "    raw[4]=raw[4].split(\",\")\n",
    "    data.append(raw) #Creando una lista de listas\n",
    "\n",
    "\n",
    "for raw in data:\n",
    "    print(raw)"
   ]
  },
  {
   "cell_type": "code",
   "execution_count": 15,
   "metadata": {},
   "outputs": [
    {
     "name": "stdout",
     "output_type": "stream",
     "text": [
      "214\n"
     ]
    }
   ],
   "source": [
    "def pregunta_01():\n",
    "        #Retorne la suma de la segunda columna.\n",
    "    i=0\n",
    "    for raw in data:\n",
    "        i=i+raw[1]\n",
    "    return i\n",
    "\n",
    "print(pregunta_01())\n",
    "\n"
   ]
  },
  {
   "cell_type": "code",
   "execution_count": 27,
   "metadata": {},
   "outputs": [
    {
     "name": "stdout",
     "output_type": "stream",
     "text": [
      "[('A', 8), ('B', 7), ('C', 5), ('D', 6), ('E', 14)]\n"
     ]
    }
   ],
   "source": [
    "def pregunta_02():\n",
    "    \"\"\"\n",
    "    Retorne la cantidad de registros por cada letra de la primera columna como la lista\n",
    "    de tuplas (letra, cantidad), ordendas alfabéticamente.\n",
    "    \"\"\"\n",
    "\n",
    "    #letras=[raw[0] for raw in data if raw[0] not in letras]\n",
    "    \n",
    "    letras=list(dict.fromkeys(raw[0] for raw in data)) #manera fácil para filtrar y resulta en un diccionario\n",
    "    letras=sorted(letras)\n",
    "\n",
    "    pup=[]\n",
    "\n",
    "    for letra in letras:\n",
    "        count=0\n",
    "        for raw in data:\n",
    "            if raw[0]==letra:\n",
    "                count=count+1\n",
    "        \n",
    "        pup.append((letra,count))\n",
    "\n",
    "    \n",
    "    print(pup)\n",
    "\n",
    "pregunta_02()\n",
    "\n",
    "\n",
    "\n"
   ]
  },
  {
   "cell_type": "code",
   "execution_count": 10,
   "metadata": {},
   "outputs": [
    {
     "name": "stdout",
     "output_type": "stream",
     "text": [
      "[('A', 53), ('B', 36), ('C', 27), ('D', 31), ('E', 67)]\n"
     ]
    }
   ],
   "source": [
    "def pregunta_03():\n",
    "    \"\"\"\n",
    "    Retorne la suma de la columna 2 por cada letra de la primera columna como una lista\n",
    "    de tuplas (letra, suma) ordendas alfabeticamente.\n",
    "\n",
    "    Rta/\n",
    "    [\n",
    "        (\"A\", 53),\n",
    "        (\"B\", 36),\n",
    "        (\"C\", 27),\n",
    "        (\"D\", 31),\n",
    "        (\"E\", 67),\n",
    "    ]\n",
    "\n",
    "    \"\"\"\n",
    "\n",
    "    letras=list(dict.fromkeys(raw[0] for raw in data))\n",
    "    letras=sorted(letras)\n",
    "\n",
    "    lista3=[]\n",
    "\n",
    "    for letra in letras:\n",
    "        suma=0\n",
    "        for raw in data:\n",
    "            if raw[0]==letra:\n",
    "                suma=suma+raw[1]\n",
    "        lista3.append((letra, suma))\n",
    "    \n",
    "    print(lista3)\n",
    "\n",
    "pregunta_03()\n",
    "\n",
    "   \n"
   ]
  },
  {
   "cell_type": "code",
   "execution_count": null,
   "metadata": {},
   "outputs": [],
   "source": []
  },
  {
   "cell_type": "code",
   "execution_count": 17,
   "metadata": {},
   "outputs": [
    {
     "data": {
      "text/plain": [
       "[2, 10, 5, 8, 12]"
      ]
     },
     "execution_count": 17,
     "metadata": {},
     "output_type": "execute_result"
    }
   ],
   "source": [
    "[raw[2].month for raw in data[:5]]"
   ]
  },
  {
   "cell_type": "code",
   "execution_count": 3,
   "metadata": {},
   "outputs": [
    {
     "name": "stdout",
     "output_type": "stream",
     "text": [
      "[('01', 3), ('02', 4), ('03', 2), ('04', 4), ('05', 3), ('06', 3), ('07', 5), ('08', 6), ('09', 3), ('10', 2), ('11', 2), ('12', 3)]\n"
     ]
    }
   ],
   "source": [
    "     \n",
    "def pregunta_04():\n",
    "    \"\"\"\n",
    "    La columna 3 contiene una fecha en formato `YYYY-MM-DD`. Retorne la cantidad de\n",
    "    registros por cada mes, tal como se muestra a continuación.\n",
    "\n",
    "    Rta/\n",
    "    [\n",
    "        (\"01\", 3),\n",
    "        (\"02\", 4),\n",
    "        (\"03\", 2),\n",
    "        (\"04\", 4),\n",
    "        (\"05\", 3),\n",
    "        (\"06\", 3),\n",
    "        (\"07\", 5),\n",
    "        (\"08\", 6),\n",
    "        (\"09\", 3),\n",
    "        (\"10\", 2),\n",
    "        (\"11\", 2),\n",
    "        (\"12\", 3),\n",
    "    ]\n",
    "\n",
    "    \"\"\"\n",
    "\n",
    "    fechas=list(dict.fromkeys(raw[2][1] for raw in data)) #manera fácil para filtrar y resulta en un diccionario\n",
    "    fechas=sorted(fechas)\n",
    "\n",
    "    fech=[]\n",
    "\n",
    "    for fecha in fechas:\n",
    "        count=0\n",
    "        for raw in data:\n",
    "            if raw[2][1]==fecha:\n",
    "                count=count+1\n",
    "        \n",
    "        fech.append((fecha,count))\n",
    "\n",
    "    \n",
    "    print(fech)\n",
    "\n",
    "pregunta_04()"
   ]
  },
  {
   "cell_type": "code",
   "execution_count": 20,
   "metadata": {},
   "outputs": [
    {
     "name": "stdout",
     "output_type": "stream",
     "text": [
      "[('A', 9, 2), ('B', 9, 1), ('C', 9, 0), ('D', 8, 3), ('E', 9, 1)]\n"
     ]
    }
   ],
   "source": [
    "def pregunta_05():\n",
    "    \"\"\"\n",
    "    Retorne una lista de tuplas con el valor maximo y minimo de la columna 2 por cada\n",
    "    letra de la columa 1.\n",
    "\n",
    "    Rta/\n",
    "    [\n",
    "        (\"A\", 9, 2),\n",
    "        (\"B\", 9, 1),\n",
    "        (\"C\", 9, 0),\n",
    "        (\"D\", 8, 3),\n",
    "        (\"E\", 9, 1),\n",
    "    ]\n",
    "\n",
    "    \"\"\"\n",
    "    columnap5=list(dict.fromkeys(raw[0] for raw in data)) #manera fácil para filtrar y resulta en un diccionario\n",
    "    columnap5=sorted(columnap5)\n",
    "\n",
    "    column5=[]\n",
    "\n",
    "    for columna in columnap5:\n",
    "        nums=[int(raw[1]) for raw in data if raw[0]==columna]\n",
    "        \n",
    "        column5.append((columna,max(nums),min(nums)))\n",
    "\n",
    "    \n",
    "    return column5\n",
    "\n",
    "print(pregunta_05())"
   ]
  },
  {
   "cell_type": "code",
   "execution_count": 10,
   "metadata": {},
   "outputs": [
    {
     "name": "stdout",
     "output_type": "stream",
     "text": [
      "[['E', 1, ['1999', '02', '28'], ['b', 'g', 'f'], ['jjj:12', 'bbb:3', 'ddd:9', 'ggg:8', 'hhh:2']], ['A', 2, ['1999', '10', '28'], ['a', 'f', 'c'], ['ccc:2', 'ddd:0', 'aaa:3', 'hhh:9']], ['B', 5, ['1998', '05', '02'], ['f', 'e', 'a', 'c'], ['ddd:2', 'ggg:5', 'ccc:6', 'jjj:12']], ['A', 3, ['1999', '08', '28'], ['a', 'b'], ['hhh:9', 'iii:5', 'eee:7', 'bbb:1']], ['C', 6, ['1999', '12', '01'], ['f', 'g', 'd', 'a'], ['iii:6', 'ddd:5', 'eee:4', 'jjj:12']], ['A', 7, ['1998', '07', '28'], ['c', 'd'], ['bbb:2', 'hhh:0', 'ccc:4', 'fff:1', 'aaa:7']], ['A', 9, ['1997', '02', '28'], ['g', 'd', 'a'], ['aaa:5', 'fff:8', 'ddd:2', 'iii:0', 'jjj:7', 'ccc:1']], ['B', 1, ['1999', '05', '10'], ['b', 'a'], ['fff:3', 'hhh:1', 'ddd:2']], ['E', 2, ['1997', '04', '12'], ['d', 'e', 'a', 'f'], ['eee:4', 'ccc:5', 'iii:9', 'fff:7', 'ggg:6', 'bbb:2']], ['B', 3, ['1999', '11', '23'], ['d', 'b', 'g', 'f'], ['bbb:7', 'jjj:9', 'fff:5', 'iii:4', 'ggg:3', 'eee:3']]]\n"
     ]
    }
   ],
   "source": [
    "print(data[:10])"
   ]
  },
  {
   "cell_type": "code",
   "execution_count": 19,
   "metadata": {},
   "outputs": [
    {
     "name": "stdout",
     "output_type": "stream",
     "text": [
      "[('aaa', 1, 9), ('bbb', 1, 9), ('ccc', 1, 10), ('ddd', 0, 9), ('eee', 1, 7), ('fff', 0, 9), ('ggg', 3, 10), ('hhh', 0, 9), ('iii', 0, 9), ('jjj', 5, 17)]\n"
     ]
    }
   ],
   "source": [
    "def pregunta_06():\n",
    "    \"\"\"\n",
    "    La columna 5 codifica un diccionario donde cada cadena de tres letras corresponde a\n",
    "    una clave y el valor despues del caracter `:` corresponde al valor asociado a la\n",
    "    clave. Por cada clave, obtenga el valor asociado mas pequeño y el valor asociado mas\n",
    "    grande computados sobre todo el archivo.\n",
    "\n",
    "    Rta/\n",
    "    [\n",
    "        (\"aaa\", 1, 9),\n",
    "        (\"bbb\", 1, 9),\n",
    "        (\"ccc\", 1, 10),\n",
    "        (\"ddd\", 0, 9),\n",
    "        (\"eee\", 1, 7),\n",
    "        (\"fff\", 0, 9),\n",
    "        (\"ggg\", 3, 10),\n",
    "        (\"hhh\", 0, 9),\n",
    "        (\"iii\", 0, 9),\n",
    "        (\"jjj\", 5, 17),\n",
    "    ]\n",
    "\n",
    "    \"\"\"\n",
    "    listakeys=[]\n",
    "    for raw in data:\n",
    "        for key in raw[4]:\n",
    "            listakeys.append(key.split(\":\"))\n",
    "\n",
    "\n",
    "    columnap6=list(dict.fromkeys(listakey[0] for listakey in listakeys)) #manera fácil para filtrar y resulta en un diccionario\n",
    "    columnap6=sorted(columnap6)\n",
    "\n",
    "    column6=[]\n",
    "\n",
    "    for columna in columnap6:\n",
    "        nums=[int(lk[1]) for lk in listakeys if lk[0]==columna]  #Se usa int para cambiar el tipo de dato de la lista que es un string\n",
    "        column6.append((columna,min(nums),max(nums)))\n",
    "\n",
    "    \n",
    "    return column6\n",
    "\n",
    "print(pregunta_06())"
   ]
  },
  {
   "cell_type": "code",
   "execution_count": 5,
   "metadata": {},
   "outputs": [
    {
     "name": "stdout",
     "output_type": "stream",
     "text": [
      "[['E', 1, ['1999', '02', '28'], ['b', 'g', 'f'], ['jjj:12', 'bbb:3', 'ddd:9', 'ggg:8', 'hhh:2']], ['A', 2, ['1999', '10', '28'], ['a', 'f', 'c'], ['ccc:2', 'ddd:0', 'aaa:3', 'hhh:9']], ['B', 5, ['1998', '05', '02'], ['f', 'e', 'a', 'c'], ['ddd:2', 'ggg:5', 'ccc:6', 'jjj:12']]]\n"
     ]
    }
   ],
   "source": [
    "print(data[:3])"
   ]
  },
  {
   "cell_type": "code",
   "execution_count": 2,
   "metadata": {},
   "outputs": [
    {
     "name": "stdout",
     "output_type": "stream",
     "text": [
      "[(0, ['C']), (1, ['E', 'B', 'E']), (2, ['A', 'E']), (3, ['A', 'B', 'D', 'E', 'E', 'D']), (4, ['E', 'B']), (5, ['B', 'C', 'D', 'D', 'E', 'E', 'E']), (6, ['C', 'E', 'A', 'B']), (7, ['A', 'C', 'E', 'D']), (8, ['E', 'D', 'E', 'A', 'B']), (9, ['A', 'B', 'E', 'A', 'A', 'C'])]\n"
     ]
    }
   ],
   "source": [
    "def pregunta_07():\n",
    "    \"\"\"\n",
    "    Retorne una lista de tuplas que asocien las columnas 0 y 1. Cada tupla contiene un\n",
    "    valor posible de la columna 2 y una lista con todas las letras asociadas (columna 1)\n",
    "    a dicho valor de la columna 2.\n",
    "\n",
    "    Rta/\n",
    "    [\n",
    "        (0, [\"C\"]),\n",
    "        (1, [\"E\", \"B\", \"E\"]),\n",
    "        (2, [\"A\", \"E\"]),\n",
    "        (3, [\"A\", \"B\", \"D\", \"E\", \"E\", \"D\"]),\n",
    "        (4, [\"E\", \"B\"]),\n",
    "        (5, [\"B\", \"C\", \"D\", \"D\", \"E\", \"E\", \"E\"]),\n",
    "        (6, [\"C\", \"E\", \"A\", \"B\"]),\n",
    "        (7, [\"A\", \"C\", \"E\", \"D\"]),\n",
    "        (8, [\"E\", \"D\", \"E\", \"A\", \"B\"]),\n",
    "        (9, [\"A\", \"B\", \"E\", \"A\", \"A\", \"C\"]),\n",
    "    ]\n",
    "\n",
    "    \"\"\"\n",
    "    numeros=list(dict.fromkeys(raw[1] for raw in data)) #manera fácil para filtrar y resulta en un diccionario\n",
    "    numeros=sorted(numeros)\n",
    "\n",
    "    \n",
    "    lista=[]\n",
    "\n",
    "    for numero in numeros:\n",
    "        lista_letras=[]\n",
    "        for raw in data:\n",
    "            if raw[1]==numero:\n",
    "                lista_letras.append(raw[0])\n",
    "        \n",
    "        lista.append((numero,lista_letras))\n",
    "    \n",
    "    \n",
    "    return lista\n",
    "\n",
    "\n",
    "pregunta_07()\n"
   ]
  },
  {
   "cell_type": "code",
   "execution_count": 11,
   "metadata": {},
   "outputs": [
    {
     "data": {
      "text/plain": [
       "[(0, ['C']),\n",
       " (1, ['E', 'B']),\n",
       " (2, ['A', 'E']),\n",
       " (3, ['A', 'B', 'D', 'E']),\n",
       " (4, ['E', 'B']),\n",
       " (5, ['B', 'C', 'D', 'E']),\n",
       " (6, ['C', 'E', 'A', 'B']),\n",
       " (7, ['A', 'C', 'E', 'D']),\n",
       " (8, ['E', 'D', 'A', 'B']),\n",
       " (9, ['A', 'B', 'E', 'C'])]"
      ]
     },
     "execution_count": 11,
     "metadata": {},
     "output_type": "execute_result"
    }
   ],
   "source": [
    "def pregunta_08():\n",
    "    \"\"\"\n",
    "    Genere una lista de tuplas, donde el primer elemento de cada tupla contiene  el valor\n",
    "    de la segunda columna; la segunda parte de la tupla es una lista con las letras\n",
    "    (ordenadas y sin repetir letra) de la primera  columna que aparecen asociadas a dicho\n",
    "    valor de la segunda columna.\n",
    "\n",
    "    Rta/\n",
    "    [\n",
    "        (0, [\"C\"]),\n",
    "        (1, [\"B\", \"E\"]),\n",
    "        (2, [\"A\", \"E\"]),\n",
    "        (3, [\"A\", \"B\", \"D\", \"E\"]),\n",
    "        (4, [\"B\", \"E\"]),\n",
    "        (5, [\"B\", \"C\", \"D\", \"E\"]),\n",
    "        (6, [\"A\", \"B\", \"C\", \"E\"]),\n",
    "        (7, [\"A\", \"C\", \"D\", \"E\"]),\n",
    "        (8, [\"A\", \"B\", \"D\", \"E\"]),\n",
    "        (9, [\"A\", \"B\", \"C\", \"E\"]),\n",
    "    ]\n",
    "    \"\"\"\n",
    "    \n",
    "    numeros=list(dict.fromkeys(raw[1] for raw in data)) #manera fácil para filtrar y resulta en un diccionario\n",
    "    numeros=sorted(numeros)\n",
    "\n",
    "    \n",
    "    lista=[]\n",
    "\n",
    "    for numero in numeros:\n",
    "        lista_letras=[]\n",
    "        for raw in data:\n",
    "            if raw[1]==numero:\n",
    "                lista_letras.append(raw[0])\n",
    "            \n",
    "        \n",
    "        lista_letras=list(dict.fromkeys(lista_letras))\n",
    "        lista.append((numero,lista_letras))\n",
    "    \n",
    "\n",
    "    return lista\n",
    "\n",
    "pregunta_08()\n"
   ]
  },
  {
   "cell_type": "code",
   "execution_count": 10,
   "metadata": {},
   "outputs": [
    {
     "data": {
      "text/plain": [
       "{'aaa': 13,\n",
       " 'bbb': 16,\n",
       " 'ccc': 23,\n",
       " 'ddd': 23,\n",
       " 'eee': 15,\n",
       " 'fff': 20,\n",
       " 'ggg': 13,\n",
       " 'hhh': 16,\n",
       " 'iii': 18,\n",
       " 'jjj': 18}"
      ]
     },
     "execution_count": 10,
     "metadata": {},
     "output_type": "execute_result"
    }
   ],
   "source": [
    "def pregunta_09():\n",
    "    \"\"\"\n",
    "    Retorne un diccionario que contenga la cantidad de registros en que aparece cada\n",
    "    clave de la columna 5.\n",
    "\n",
    "    Rta/\n",
    "    {\n",
    "        \"aaa\": 13,\n",
    "        \"bbb\": 16,\n",
    "        \"ccc\": 23,\n",
    "        \"ddd\": 23,\n",
    "        \"eee\": 15,\n",
    "        \"fff\": 20,\n",
    "        \"ggg\": 13,\n",
    "        \"hhh\": 16,\n",
    "        \"iii\": 18,\n",
    "        \"jjj\": 18,\n",
    "    }\n",
    "\n",
    "    \"\"\"\n",
    "    lista_claves=[]\n",
    "    for raw in data:\n",
    "        for clave in raw[4]:\n",
    "            lista_claves.append(clave[0:clave.index(\":\")])\n",
    "\n",
    "    dicc=list(dict.fromkeys(lista_claves)) #manera fácil para filtrar y resulta en un diccionario\n",
    "    dicc=sorted(dicc)\n",
    "\n",
    "    claves={} \n",
    "\n",
    "    for dic in dicc:\n",
    "        count=0\n",
    "        for clave in lista_claves:\n",
    "            if clave==dic:\n",
    "                count=count+1\n",
    "        \n",
    "        claves[dic]=count\n",
    "\n",
    "    \n",
    "    #print(claves)\n",
    "    \n",
    "    return claves\n",
    "\n",
    "pregunta_09()\n",
    "\n",
    "\n"
   ]
  },
  {
   "cell_type": "code",
   "execution_count": 14,
   "metadata": {},
   "outputs": [
    {
     "data": {
      "text/plain": [
       "[('E', 3, 5),\n",
       " ('A', 3, 4),\n",
       " ('B', 4, 4),\n",
       " ('A', 2, 4),\n",
       " ('C', 4, 4),\n",
       " ('A', 2, 5),\n",
       " ('A', 3, 6),\n",
       " ('B', 2, 3),\n",
       " ('E', 4, 6),\n",
       " ('B', 4, 6),\n",
       " ('C', 4, 5),\n",
       " ('C', 4, 3),\n",
       " ('D', 4, 5),\n",
       " ('E', 2, 3),\n",
       " ('B', 2, 5),\n",
       " ('D', 2, 4),\n",
       " ('E', 3, 6),\n",
       " ('D', 2, 3),\n",
       " ('E', 4, 3),\n",
       " ('E', 2, 3),\n",
       " ('E', 2, 3),\n",
       " ('E', 3, 3),\n",
       " ('D', 3, 3),\n",
       " ('A', 3, 5),\n",
       " ('E', 2, 6),\n",
       " ('E', 3, 6),\n",
       " ('A', 3, 3),\n",
       " ('E', 3, 5),\n",
       " ('A', 2, 5),\n",
       " ('C', 4, 6),\n",
       " ('A', 2, 5),\n",
       " ('D', 2, 6),\n",
       " ('E', 2, 4),\n",
       " ('B', 3, 6),\n",
       " ('B', 3, 5),\n",
       " ('D', 2, 3),\n",
       " ('B', 2, 5),\n",
       " ('C', 4, 3),\n",
       " ('E', 2, 3),\n",
       " ('E', 3, 3)]"
      ]
     },
     "execution_count": 14,
     "metadata": {},
     "output_type": "execute_result"
    }
   ],
   "source": [
    "def pregunta_10():\n",
    "    \"\"\"\n",
    "    Retorne una lista de tuplas contengan por cada tupla, la letra de la columna 1 y la\n",
    "    cantidad de elementos de las columnas 4 y 5.\n",
    "\n",
    "    Rta/\n",
    "    [\n",
    "        (\"E\", 3, 5),\n",
    "        (\"A\", 3, 4),\n",
    "        (\"B\", 4, 4),\n",
    "        ...\n",
    "        (\"C\", 4, 3),\n",
    "        (\"E\", 2, 3),\n",
    "        (\"E\", 3, 3),\n",
    "    ]\n",
    "\n",
    "\n",
    "    \"\"\"\n",
    "    \"\"\"\n",
    "    lista_10=[]\n",
    "    for i in range(len(data)):\n",
    "        lista_10.append((data[i][0],len(data[i][3]),len(data[i][4])))\n",
    "\n",
    "    \n",
    "    return lista_10\n",
    "    \"\"\"\n",
    "\n",
    "    lista_10=[]\n",
    "    for raw in data:\n",
    "        lista_10.append((raw[0],len(raw[3]),len(raw[4])))\n",
    "\n",
    "    \n",
    "    \n",
    "    return lista_10\n",
    "\n",
    "\n",
    "pregunta_10()\n",
    "\n"
   ]
  },
  {
   "cell_type": "code",
   "execution_count": 22,
   "metadata": {},
   "outputs": [
    {
     "data": {
      "text/plain": [
       "{'a': 122, 'b': 49, 'c': 91, 'd': 73, 'e': 86, 'f': 134, 'g': 35}"
      ]
     },
     "execution_count": 22,
     "metadata": {},
     "output_type": "execute_result"
    }
   ],
   "source": [
    "def pregunta_11():\n",
    "    \"\"\"\n",
    "    Retorne un diccionario que contengan la suma de la columna 2 para cada letra de la\n",
    "    columna 4, ordenadas alfabeticamente.\n",
    "\n",
    "    Rta/\n",
    "    {\n",
    "        \"a\": 122,\n",
    "        \"b\": 49,\n",
    "        \"c\": 91,\n",
    "        \"d\": 73,\n",
    "        \"e\": 86,\n",
    "        \"f\": 134,\n",
    "        \"g\": 35,\n",
    "    }\n",
    "\n",
    "\n",
    "    \"\"\"\n",
    "    import json \n",
    "    diccionario={}\n",
    "\n",
    "    for raw in data:\n",
    "        for letra in raw[3]:\n",
    "            if letra not in diccionario:\n",
    "                diccionario[letra]=0\n",
    "            diccionario[letra]=diccionario[letra]+raw[1]\n",
    "    \n",
    "    diccionario=json.dumps(diccionario,sort_keys=True)\n",
    "\n",
    "    diccionario=json.loads(diccionario)\n",
    "    \n",
    "    \n",
    "    return diccionario\n",
    "\n",
    "pregunta_11()"
   ]
  },
  {
   "cell_type": "code",
   "execution_count": 24,
   "metadata": {},
   "outputs": [
    {
     "data": {
      "text/plain": [
       "{'A': 177, 'B': 187, 'C': 114, 'D': 136, 'E': 324}"
      ]
     },
     "execution_count": 24,
     "metadata": {},
     "output_type": "execute_result"
    }
   ],
   "source": [
    "def pregunta_12():\n",
    "    \"\"\"\n",
    "    Genere un diccionario que contengan como clave la columna 1 y como valor la suma de\n",
    "    los valores de la columna 5 sobre todo el archivo.\n",
    "\n",
    "    Rta/\n",
    "    {\n",
    "        'A': 177,\n",
    "        'B': 187,\n",
    "        'C': 114,\n",
    "        'D': 136,\n",
    "        'E': 324\n",
    "    }\n",
    "\n",
    "    \n",
    "    data_12=[]\n",
    "    for i in data:\n",
    "        data1= i[1].split(\",\")\n",
    "        for h in data1:\n",
    "            data\n",
    "    \n",
    "\n",
    "    dicc={}\n",
    "    for row in data:\n",
    "        key=row[0]\n",
    "        value=int(row[1])\n",
    "        if key in dicc:\n",
    "            dicc[key] += value\n",
    "        else:\n",
    "            dicc[key] = value\n",
    "\n",
    "    dicc1 = dict(sorted(dicc.items(), key=lambda item: item[0]))\n",
    "\"\"\"\n",
    "    import csv\n",
    "    with open (\"data.csv\",\"r\") as file:\n",
    "        data = file.readlines()\n",
    "\n",
    "    data = [row.replace('\\n','')for row in data]\n",
    "    data1 = [(row.split('\\t')[0],(row.split('\\t')[-1])) for row in data]\n",
    "    data2 = []\n",
    "    for i in data1:\n",
    "        data3 = i[1].split(\",\")\n",
    "        for h in data3:\n",
    "            data4 = int(h.split(\":\")[1])\n",
    "            data5= (i[0], data4)\n",
    "            data2.append(data5)\n",
    "    diccionario = {}\n",
    "    for row in data2:\n",
    "        key = row[0]\n",
    "        valor = int(row[1])\n",
    "        if key in diccionario:\n",
    "            diccionario[key] += valor\n",
    "        else:\n",
    "            diccionario[key] = valor\n",
    "\n",
    "    diccionario1 = dict(sorted(diccionario.items(), key=lambda item: item[0]))\n",
    "    \n",
    "    return diccionario1\n",
    "\n",
    "pregunta_12()"
   ]
  },
  {
   "cell_type": "code",
   "execution_count": null,
   "metadata": {},
   "outputs": [],
   "source": []
  }
 ],
 "metadata": {
  "kernelspec": {
   "display_name": "Python 3.10.7 64-bit (microsoft store)",
   "language": "python",
   "name": "python3"
  },
  "language_info": {
   "codemirror_mode": {
    "name": "ipython",
    "version": 3
   },
   "file_extension": ".py",
   "mimetype": "text/x-python",
   "name": "python",
   "nbconvert_exporter": "python",
   "pygments_lexer": "ipython3",
   "version": "3.10.7"
  },
  "orig_nbformat": 4,
  "vscode": {
   "interpreter": {
    "hash": "d48aa67a9e3abb47a502c9c24e35edce279ee86d3fa64d9253e5e92d1c0524e7"
   }
  }
 },
 "nbformat": 4,
 "nbformat_minor": 2
}
